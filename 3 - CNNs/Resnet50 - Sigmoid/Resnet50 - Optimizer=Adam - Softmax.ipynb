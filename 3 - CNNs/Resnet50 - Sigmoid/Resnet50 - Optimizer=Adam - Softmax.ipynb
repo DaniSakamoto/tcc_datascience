{
 "cells": [
  {
   "cell_type": "markdown",
   "metadata": {
    "id": "MV6ntkM1w-QM"
   },
   "source": [
    "## Trabalho de conclusão do curso de Especialização em Ciência de Dados da Facens\n",
    "## Faculdade de Engenharia de Sorocaba\n",
    "\n",
    "**Alunos:** \n",
    "<p>\n",
    "<p>Dani Shizue Sakamoto\n",
    "<p>Mariana de Castro Pires Tavares Albuquerque\n",
    "<p>Tan Kin Wah"
   ]
  },
  {
   "cell_type": "markdown",
   "metadata": {
    "id": "H2IPTkp2w9aF"
   },
   "source": [
    "<h2><center>Treinamento com o modelo Resnet-50 - Optimizer=Adam - Softmax</center></h2>\n",
    "<h2><center>(Adulto e Criança)</center></h2>"
   ]
  },
  {
   "cell_type": "markdown",
   "metadata": {
    "id": "eDFxbXN5w9aH"
   },
   "source": [
    "#### Importando as bibliotecas"
   ]
  },
  {
   "cell_type": "code",
   "execution_count": null,
   "metadata": {
    "id": "hdA-QaHlw9aI",
    "outputId": "3e7d627f-98f3-4140-cc02-039026ee6b53"
   },
   "outputs": [
    {
     "name": "stderr",
     "output_type": "stream",
     "text": [
      "Using TensorFlow backend.\n"
     ]
    }
   ],
   "source": [
    "from PIL import Image\n",
    "import numpy as np\n",
    "import pandas as pd\n",
    "import os\n",
    "from random import shuffle\n",
    "\n",
    "import keras\n",
    "from sklearn.preprocessing import Normalizer\n",
    "from sklearn.preprocessing import LabelEncoder\n",
    "from keras.utils import to_categorical\n",
    "from keras.models import Sequential\n",
    "from keras.layers import Dense, Dropout, Flatten\n",
    "from keras.layers. normalization import BatchNormalization\n",
    "from keras.applications import ResNet50\n",
    "from keras import optimizers\n",
    "\n",
    "from sklearn.metrics import classification_report\n",
    "from sklearn.metrics import confusion_matrix, accuracy_score\n",
    "\n",
    "import seaborn as sns\n",
    "import matplotlib.pyplot as plt\n",
    "%matplotlib inline\n",
    "import warnings\n",
    "warnings.filterwarnings(\"ignore\", category=DeprecationWarning)"
   ]
  },
  {
   "cell_type": "markdown",
   "metadata": {
    "id": "iLdO_1-3w9aN"
   },
   "source": [
    "#### Diretórios das imagens"
   ]
  },
  {
   "cell_type": "code",
   "execution_count": null,
   "metadata": {
    "id": "_jNN0X4Yw9aO"
   },
   "outputs": [],
   "source": [
    "dir_train_adult = './datasets/images/train/Adult'\n",
    "dir_train_child = './datasets/images/train/Child'"
   ]
  },
  {
   "cell_type": "code",
   "execution_count": null,
   "metadata": {
    "id": "bpuCDZpOw9aQ"
   },
   "outputs": [],
   "source": [
    "dir_test_adult = './datasets/images/test/Adult'\n",
    "dir_test_child = './datasets/images/test/Child'"
   ]
  },
  {
   "cell_type": "code",
   "execution_count": null,
   "metadata": {
    "id": "03_v8dghw9aT"
   },
   "outputs": [],
   "source": [
    "image_size = (256, 256)\n",
    "train_data = []\n",
    "test_data = []"
   ]
  },
  {
   "cell_type": "markdown",
   "metadata": {
    "id": "XCB5NUM2w9aV"
   },
   "source": [
    "#### Função que carrega as imagens de treino"
   ]
  },
  {
   "cell_type": "code",
   "execution_count": null,
   "metadata": {
    "id": "rosVvG3Hw9aW"
   },
   "outputs": [],
   "source": [
    "def load_training_data():\n",
    "    \n",
    "    for img in os.listdir(dir_train_adult):\n",
    "        label = 'Adult'\n",
    "        path = os.path.join(dir_train_adult, img)\n",
    "\n",
    "        try:\n",
    "            img = Image.open(path)\n",
    "            label_array = np.array(label)\n",
    "            train_data.append([np.asarray(img.resize(image_size)), label_array])\n",
    "        except:\n",
    "            pass\n",
    "           \n",
    "    for img in os.listdir(dir_train_child):\n",
    "        label = 'Child'\n",
    "        path = os.path.join(dir_train_child, img)\n",
    "    \n",
    "        try:\n",
    "            img = Image.open(path)\n",
    "            label_array = np.array(label)\n",
    "            train_data.append([np.asarray(img.resize(image_size)), label_array])\n",
    "        except:\n",
    "            pass\n",
    "       \n",
    "        \n",
    "    shuffle(train_data)\n",
    "    return train_data"
   ]
  },
  {
   "cell_type": "code",
   "execution_count": null,
   "metadata": {
    "id": "DCXTIaAfw9aY"
   },
   "outputs": [],
   "source": [
    "train_data = load_training_data()"
   ]
  },
  {
   "cell_type": "markdown",
   "metadata": {
    "id": "_E2A075xw9ac"
   },
   "source": [
    "#### Função que carrega as imagens de teste"
   ]
  },
  {
   "cell_type": "code",
   "execution_count": null,
   "metadata": {
    "id": "xJB9CrPBw9ac"
   },
   "outputs": [],
   "source": [
    "def load_test_data():\n",
    "\n",
    "    for img in os.listdir(dir_test_adult):\n",
    "        label = 'Adult'\n",
    "        path = os.path.join(dir_test_adult, img)\n",
    " \n",
    "        try:\n",
    "            img = Image.open(path)\n",
    "            label_array = np.array(label)\n",
    "            test_data.append([np.asarray(img.resize(image_size)), label_array])\n",
    "        except:\n",
    "            pass\n",
    "           \n",
    "    for img in os.listdir(dir_test_child):\n",
    "        label = 'Child'\n",
    "        path = os.path.join(dir_test_child, img)\n",
    "    \n",
    "        try:\n",
    "            img = Image.open(path)\n",
    "            label_array = np.array(label)\n",
    "            test_data.append([np.asarray(img.resize(image_size)), label_array])\n",
    "        except:\n",
    "            pass\n",
    "       \n",
    "        \n",
    "    shuffle(test_data)\n",
    "    return test_data"
   ]
  },
  {
   "cell_type": "code",
   "execution_count": null,
   "metadata": {
    "id": "iLrPViupw9ae"
   },
   "outputs": [],
   "source": [
    "test_data = load_test_data()"
   ]
  },
  {
   "cell_type": "code",
   "execution_count": null,
   "metadata": {
    "id": "MJ7rwSsqw9ah"
   },
   "outputs": [],
   "source": [
    "train_images = np.array([i[0] for i in train_data])\n",
    "train_labels = np.array([i[1] for i in train_data])"
   ]
  },
  {
   "cell_type": "code",
   "execution_count": null,
   "metadata": {
    "id": "aUf-WNQ1w9aj"
   },
   "outputs": [],
   "source": [
    "test_images = np.array([i[0] for i in test_data])\n",
    "test_labels = np.array([i[1] for i in test_data])"
   ]
  },
  {
   "cell_type": "code",
   "execution_count": null,
   "metadata": {
    "id": "M-NmbwNlw9al"
   },
   "outputs": [],
   "source": [
    "le = LabelEncoder()\n",
    "labels_train = le.fit_transform(train_labels)\n",
    "labels_test = le.transform(test_labels)"
   ]
  },
  {
   "cell_type": "code",
   "execution_count": null,
   "metadata": {
    "id": "VCBrozpFw9ao"
   },
   "outputs": [],
   "source": [
    "labels_train = to_categorical(labels_train, num_classes=2)\n",
    "labels_test = to_categorical(labels_test, num_classes=2)"
   ]
  },
  {
   "cell_type": "code",
   "execution_count": null,
   "metadata": {
    "id": "l4rVduPtw9aq"
   },
   "outputs": [],
   "source": [
    "X_train = train_images\n",
    "y_train = labels_train"
   ]
  },
  {
   "cell_type": "code",
   "execution_count": null,
   "metadata": {
    "id": "j8W4XUNtw9as"
   },
   "outputs": [],
   "source": [
    "X_test = test_images\n",
    "y_test = labels_test"
   ]
  },
  {
   "cell_type": "markdown",
   "metadata": {
    "id": "zu3DGDZPw9au"
   },
   "source": [
    "#### Definindo Hiperparâmetros\n",
    "<p style='text-align: justify;'>\n",
    "Os hiperparâmetros definem como deseja treinar a rede neural (períodos de treinamento), tamanho do lote, taxa de aprendizado, função de otimização, configuração da rede neural (camadas, unidades ocultas em camadas, função de ativação, etc). \n",
    "Durante a fase de treinamento de um projeto de aprendizado profundo, você pode querer ajustar esses hiperparâmetros para obter o desempenho ideal do modelo de rede neural.</p>"
   ]
  },
  {
   "cell_type": "code",
   "execution_count": null,
   "metadata": {
    "id": "KCMA_WOOw9au"
   },
   "outputs": [],
   "source": [
    "batchSize   = 32\n",
    "max_epochs  = 5\n",
    "inputShape  = (256, 256, 3)\n",
    "optimizer   = optimizers.Adam(learning_rate=0.001)#0.0001"
   ]
  },
  {
   "cell_type": "markdown",
   "metadata": {
    "id": "YtEJEGZAw9ax"
   },
   "source": [
    "## TRANSFER LEARNING\n",
    "<p style='text-align: justify;'>\n",
    "A aprendizagem por transferência tem o benefício de diminuir o tempo de treinamento para um modelo de rede neural e pode resultar em um erro de generalização menor. O objetivo é aproveitar os dados da primeira configuração para extrair informações que podem ser úteis ao aprender ou mesmo ao fazer previsões diretamente na segunda configuração.</p>\n",
    "\n",
    "https://machinelearningmastery.com/how-to-improve-performance-with-transfer-learning-for-deep-learning-neural-networks/ "
   ]
  },
  {
   "cell_type": "markdown",
   "metadata": {
    "id": "6oQyzGw8w9ax"
   },
   "source": [
    "### RESNET-50\n",
    "ResNet-50 é uma rede neural convolucional com 50 camadas de profundidade. "
   ]
  },
  {
   "cell_type": "code",
   "execution_count": null,
   "metadata": {
    "id": "qQr-uKECw9ay",
    "outputId": "93f45ed6-2feb-4269-85bf-67eebbf44a85"
   },
   "outputs": [
    {
     "name": "stderr",
     "output_type": "stream",
     "text": [
      "/home/ec2-user/anaconda3/envs/python-gpu/lib/python3.7/site-packages/keras_applications/resnet50.py:265: UserWarning: The output shape of `ResNet50(include_top=False)` has been changed since Keras 2.2.0.\n",
      "  warnings.warn('The output shape of `ResNet50(include_top=False)` '\n"
     ]
    }
   ],
   "source": [
    "conv_base = ResNet50(weights='imagenet', include_top=False, input_shape=inputShape)"
   ]
  },
  {
   "cell_type": "code",
   "execution_count": null,
   "metadata": {
    "id": "2wdKQOYlw9a0"
   },
   "outputs": [],
   "source": [
    "model = Sequential()\n",
    "model.add(conv_base)\n",
    "model.add(Flatten())\n",
    "model.add(Dense(512, activation='tanh'))\n",
    "model.add(Dense(2, activation='softmax'))\n",
    "model.compile(loss='binary_crossentropy', optimizer=optimizer, metrics=['accuracy'])"
   ]
  },
  {
   "cell_type": "markdown",
   "metadata": {
    "id": "yMzHom6Aw9a2"
   },
   "source": [
    "#### Ajusta o gerador de treinamento"
   ]
  },
  {
   "cell_type": "code",
   "execution_count": null,
   "metadata": {
    "id": "RS-kAe_Fw9a2",
    "outputId": "e250c4b2-42ab-4131-d0ca-108512e291e3"
   },
   "outputs": [
    {
     "name": "stdout",
     "output_type": "stream",
     "text": [
      "Iniciando treinamento... \n",
      "Epoch 1/5\n",
      "11764/11764 [==============================] - 639s 54ms/step - loss: 5.1384 - accuracy: 0.6046\n",
      "Epoch 2/5\n",
      "11764/11764 [==============================] - 613s 52ms/step - loss: 0.6942 - accuracy: 0.5995\n",
      "Epoch 3/5\n",
      "11764/11764 [==============================] - 613s 52ms/step - loss: 0.5895 - accuracy: 0.6890\n",
      "Epoch 4/5\n",
      "11764/11764 [==============================] - 613s 52ms/step - loss: 0.4305 - accuracy: 0.7961\n",
      "Epoch 5/5\n",
      "11764/11764 [==============================] - 613s 52ms/step - loss: 0.3569 - accuracy: 0.8345\n",
      "Treinamento finalizado \n",
      "\n"
     ]
    }
   ],
   "source": [
    "print(\"Iniciando treinamento... \")\n",
    "\n",
    "history = model.fit(X_train, y_train, batch_size=batchSize, verbose=1, epochs=max_epochs)\n",
    "\n",
    "print(\"Treinamento finalizado \\n\")"
   ]
  },
  {
   "cell_type": "markdown",
   "metadata": {
    "id": "LB8KUlRjw9a4"
   },
   "source": [
    "#### Salvando modelo"
   ]
  },
  {
   "cell_type": "code",
   "execution_count": null,
   "metadata": {
    "id": "2s-LkydOw9a5"
   },
   "outputs": [],
   "source": [
    "model.save(\"model_resnet_softmax.h5\")"
   ]
  },
  {
   "cell_type": "markdown",
   "metadata": {
    "id": "8gXC1FqNw9a7"
   },
   "source": [
    "#### Histórico de treinamento (Precisão e Perda)"
   ]
  },
  {
   "cell_type": "code",
   "execution_count": null,
   "metadata": {
    "id": "v7cXXOmXw9a7",
    "outputId": "d6e2821d-7059-40c6-ef51-a2ad05e14804"
   },
   "outputs": [
    {
     "name": "stdout",
     "output_type": "stream",
     "text": [
      "dict_keys(['loss', 'accuracy'])\n"
     ]
    },
    {
     "data": {
      "image/png": "[encoded data removed]",
      "text/plain": [
       "<Figure size 432x288 with 1 Axes>"
      ]
     },
     "metadata": {
      "needs_background": "light",
      "tags": []
     },
     "output_type": "display_data"
    },
    {
     "data": {
      "image/png": "[encoded data removed]",
      "text/plain": [
       "<Figure size 432x288 with 1 Axes>"
      ]
     },
     "metadata": {
      "needs_background": "light",
      "tags": []
     },
     "output_type": "display_data"
    }
   ],
   "source": [
    "# list all data in history\n",
    "print(history.history.keys())\n",
    "# summarize history for accuracy\n",
    "plt.plot(history.history['accuracy'])\n",
    "plt.title('model accuracy')\n",
    "plt.ylabel('accuracy')\n",
    "plt.xlabel('epoch')\n",
    "plt.legend(['train'], loc='upper left')\n",
    "plt.show()\n",
    "# summarize history for loss\n",
    "plt.plot(history.history['loss'])\n",
    "plt.title('model loss')\n",
    "plt.ylabel('loss')\n",
    "plt.xlabel('epoch')\n",
    "plt.legend(['train'], loc='upper left')\n",
    "plt.show()"
   ]
  },
  {
   "cell_type": "markdown",
   "metadata": {
    "id": "P3trZp5Lw9a9"
   },
   "source": [
    "#### Gerador de Predição\n",
    "Gera previsões para as amostras"
   ]
  },
  {
   "cell_type": "code",
   "execution_count": null,
   "metadata": {
    "id": "2XhrNxWUw9a9"
   },
   "outputs": [],
   "source": [
    "y_pred_train = model.predict(X_train)\n",
    "\n",
    "y_pred_test = model.predict(X_test)"
   ]
  },
  {
   "cell_type": "code",
   "execution_count": null,
   "metadata": {
    "id": "VoHkizOQw9a_"
   },
   "outputs": [],
   "source": [
    "y_pred_train = [np.argmax(i) for i in y_pred_train]\n",
    "y_pred_test = [np.argmax(j) for j in y_pred_test]"
   ]
  },
  {
   "cell_type": "code",
   "execution_count": null,
   "metadata": {
    "id": "5R8jlKPFw9bC"
   },
   "outputs": [],
   "source": [
    "y_pred_train = le.inverse_transform(y_pred_train)\n",
    "y_pred_test = le.inverse_transform(y_pred_test)"
   ]
  },
  {
   "cell_type": "code",
   "execution_count": null,
   "metadata": {
    "id": "OL-S7x_hw9bF",
    "outputId": "5b6fa4a0-669c-46dc-8eda-cf335d52d023"
   },
   "outputs": [
    {
     "data": {
      "text/plain": [
       "'Adult'"
      ]
     },
     "execution_count": 24,
     "metadata": {
      "tags": []
     },
     "output_type": "execute_result"
    }
   ],
   "source": [
    "y_pred_train[0]"
   ]
  },
  {
   "cell_type": "code",
   "execution_count": null,
   "metadata": {
    "id": "YfyDnxDDw9bI",
    "outputId": "4e7690d1-3cdc-4ebc-8184-43ce01a17bbe"
   },
   "outputs": [
    {
     "data": {
      "text/plain": [
       "'Adult'"
      ]
     },
     "execution_count": 25,
     "metadata": {
      "tags": []
     },
     "output_type": "execute_result"
    }
   ],
   "source": [
    "y_pred_test[0]"
   ]
  },
  {
   "cell_type": "code",
   "execution_count": null,
   "metadata": {
    "id": "9bGS27uAw9bK"
   },
   "outputs": [],
   "source": [
    "y_true_train = [np.argmax(i) for i in y_train]\n",
    "y_true_test = [np.argmax(j) for j in y_test]"
   ]
  },
  {
   "cell_type": "code",
   "execution_count": null,
   "metadata": {
    "id": "EnIbQCPyw9bM"
   },
   "outputs": [],
   "source": [
    "y_true_train = le.inverse_transform(y_true_train)\n",
    "y_true_test = le.inverse_transform(y_true_test)"
   ]
  },
  {
   "cell_type": "code",
   "execution_count": null,
   "metadata": {
    "id": "QLguvaaFw9bT",
    "outputId": "65551b14-dcc6-4623-bbe9-8dca476b7d53"
   },
   "outputs": [
    {
     "name": "stdout",
     "output_type": "stream",
     "text": [
      "Performance do treinamento\n",
      "              precision    recall  f1-score   support\n",
      "\n",
      "       Adult       0.65      0.99      0.78      7027\n",
      "       Child       0.96      0.20      0.32      4737\n",
      "\n",
      "    accuracy                           0.67     11764\n",
      "   macro avg       0.80      0.59      0.55     11764\n",
      "weighted avg       0.77      0.67      0.60     11764\n",
      "\n",
      "Performance do teste\n",
      "              precision    recall  f1-score   support\n",
      "\n",
      "       Adult       0.65      1.00      0.79      3012\n",
      "       Child       0.96      0.20      0.33      2032\n",
      "\n",
      "    accuracy                           0.67      5044\n",
      "   macro avg       0.81      0.60      0.56      5044\n",
      "weighted avg       0.78      0.67      0.60      5044\n",
      "\n"
     ]
    }
   ],
   "source": [
    "print('Performance do treinamento')\n",
    "print(classification_report(y_true_train, y_pred_train))\n",
    "\n",
    "print('Performance do teste')\n",
    "print(classification_report(y_true_test, y_pred_test))"
   ]
  },
  {
   "cell_type": "code",
   "execution_count": null,
   "metadata": {
    "id": "FAwa8coOw9bV",
    "outputId": "15002058-6098-4c9b-974b-27262cf306c0"
   },
   "outputs": [
    {
     "data": {
      "text/plain": [
       "array([[2997,   15],\n",
       "       [1625,  407]])"
      ]
     },
     "execution_count": 29,
     "metadata": {
      "tags": []
     },
     "output_type": "execute_result"
    }
   ],
   "source": [
    "cm = confusion_matrix(y_true_test, y_pred_test)\n",
    "cm"
   ]
  },
  {
   "cell_type": "code",
   "execution_count": null,
   "metadata": {
    "id": "eoBn7_TCw9bX",
    "outputId": "a20db55e-7850-4ff4-fd70-708db3729bf4"
   },
   "outputs": [
    {
     "data": {
      "image/png": "[encoded data removed]",
      "text/plain": [
       "<Figure size 396x288 with 2 Axes>"
      ]
     },
     "metadata": {
      "needs_background": "light",
      "tags": []
     },
     "output_type": "display_data"
    }
   ],
   "source": [
    "cm_df = pd.DataFrame(cm,\n",
    "                     index = le.classes_, \n",
    "                     columns = le.classes_)\n",
    "\n",
    "plt.figure(figsize=(5.5,4))\n",
    "sns.heatmap(cm_df, annot=True, cmap=\"Blues\")\n",
    "plt.title('Resnet-50 \\nAccuracy:{0:.3f}'.format(accuracy_score(y_true_test, y_pred_test)))\n",
    "plt.ylabel('True label')\n",
    "plt.xlabel('Predicted label')\n",
    "plt.show()"
   ]
  },
  {
   "cell_type": "code",
   "execution_count": null,
   "metadata": {
    "id": "B5neVbaGw9bZ"
   },
   "outputs": [],
   "source": []
  }
 ],
 "metadata": {
  "colab": {
   "collapsed_sections": [
    "zu3DGDZPw9au",
    "yMzHom6Aw9a2",
    "LB8KUlRjw9a4",
    "8gXC1FqNw9a7",
    "P3trZp5Lw9a9"
   ],
   "name": "Resnet50 - Optimizer=Adam - Softmax.ipynb",
   "provenance": []
  },
  "kernelspec": {
   "display_name": "Python 3",
   "language": "python",
   "name": "python3"
  },
  "language_info": {
   "codemirror_mode": {
    "name": "ipython",
    "version": 3
   },
   "file_extension": ".py",
   "mimetype": "text/x-python",
   "name": "python",
   "nbconvert_exporter": "python",
   "pygments_lexer": "ipython3",
   "version": "3.6.5"
  }
 },
 "nbformat": 4,
 "nbformat_minor": 1
}
