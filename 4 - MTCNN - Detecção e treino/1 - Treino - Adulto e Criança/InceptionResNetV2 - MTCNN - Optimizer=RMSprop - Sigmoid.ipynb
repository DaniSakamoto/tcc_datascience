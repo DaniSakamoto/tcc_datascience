{
 "cells": [
  {
   "cell_type": "markdown",
   "metadata": {
    "id": "NsxfrgRvy84u"
   },
   "source": [
    "## Trabalho de conclusão do curso de Especialização em Ciência de Dados da Facens\n",
    "## Faculdade de Engenharia de Sorocaba\n",
    "\n",
    "**Alunos:** \n",
    "<p>\n",
    "<p>Dani Shizue Sakamoto\n",
    "<p>Mariana de Castro Pires Tavares Albuquerque\n",
    "<p>Tan Kin Wah"
   ]
  },
  {
   "cell_type": "markdown",
   "metadata": {
    "id": "yG8-Ir_ty6Fh"
   },
   "source": [
    "<h1><center>Treinamento utilizando MTCNN e Inception ResNet-V2</center></h1>\n",
    "<h2><center>InceptionResNetV2 - Optimizer=RMSprop - Sigmoid</center></h2>\n",
    "<h2><center>(Adulto e Criança)</center></h2>"
   ]
  },
  {
   "cell_type": "markdown",
   "metadata": {
    "id": "fqqz6sIey6Fi"
   },
   "source": [
    "#### Importando as bibliotecas"
   ]
  },
  {
   "cell_type": "code",
   "execution_count": null,
   "metadata": {
    "id": "yAg_V-3hy6Fk",
    "outputId": "b29e8e1e-4866-42a6-fbd3-c41d2d4987b3"
   },
   "outputs": [
    {
     "name": "stderr",
     "output_type": "stream",
     "text": [
      "Using TensorFlow backend.\n"
     ]
    }
   ],
   "source": [
    "import numpy as np\n",
    "import os\n",
    "from os import listdir\n",
    "from os.path import isdir\n",
    "\n",
    "import cv2\n",
    "import mtcnn\n",
    "from mtcnn.mtcnn import MTCNN\n",
    "\n",
    "from random import shuffle\n",
    "from imageio import imread\n",
    "from skimage.transform import resize\n",
    "from scipy.spatial import distance\n",
    "from sklearn.preprocessing import Normalizer\n",
    "from sklearn.preprocessing import LabelEncoder\n",
    "from PIL import Image\n",
    "\n",
    "import keras\n",
    "from sklearn.preprocessing import Normalizer\n",
    "from sklearn.preprocessing import LabelEncoder\n",
    "from keras.utils import to_categorical\n",
    "from keras.models import Sequential\n",
    "from keras.layers import Dense, Dropout, Flatten\n",
    "from keras.layers. normalization import BatchNormalization\n",
    "from keras.applications import InceptionResNetV2\n",
    "from keras import optimizers\n",
    "\n",
    "from sklearn.metrics import classification_report\n",
    "from sklearn.metrics import confusion_matrix, accuracy_score\n",
    "\n",
    "import seaborn as sns\n",
    "import matplotlib.pyplot as plt\n",
    "%matplotlib inline\n",
    "import warnings\n",
    "warnings.filterwarnings(\"ignore\", category=DeprecationWarning)"
   ]
  },
  {
   "cell_type": "markdown",
   "metadata": {
    "id": "CdiPN3w5y6Ft"
   },
   "source": [
    "#### Diretórios das imagens"
   ]
  },
  {
   "cell_type": "code",
   "execution_count": null,
   "metadata": {
    "id": "pCKA_sREy6Fu"
   },
   "outputs": [],
   "source": [
    "dir_train_adult = './datasets/images/train/Adult'\n",
    "dir_train_child = './datasets/images/train/Child'"
   ]
  },
  {
   "cell_type": "code",
   "execution_count": null,
   "metadata": {
    "id": "IJK3eUlAy6Fz"
   },
   "outputs": [],
   "source": [
    "dir_test_adult = './datasets/images/test/Adult'\n",
    "dir_test_child = './datasets/images/test/Child'"
   ]
  },
  {
   "cell_type": "markdown",
   "metadata": {
    "id": "eQVSPbquy6F7"
   },
   "source": [
    "### MTCNN - Multi-task Cascaded Convolutional Neural Networks\n",
    "https://pypi.org/project/mtcnn/\n",
    "\n",
    "Palavras-chave: MTCNN, detecção e alinhamento de faces, rede neural convolucional, reconhecimento de faces.\n",
    "\n",
    "Faz o reconhecimento da face e alinhamento baseado em processamento mais denso de uma rede neural."
   ]
  },
  {
   "cell_type": "markdown",
   "metadata": {
    "id": "P_n7b2V0y6F8"
   },
   "source": [
    "#### Instanciando o detector"
   ]
  },
  {
   "cell_type": "code",
   "execution_count": null,
   "metadata": {
    "id": "JPhmiJFSy6F9"
   },
   "outputs": [],
   "source": [
    "face_detector = MTCNN()"
   ]
  },
  {
   "cell_type": "markdown",
   "metadata": {
    "id": "PnP-k8l6y6GF"
   },
   "source": [
    "#### Função que detecta a face na imagem"
   ]
  },
  {
   "cell_type": "code",
   "execution_count": null,
   "metadata": {
    "id": "aDFCev3hy6GH"
   },
   "outputs": [],
   "source": [
    "def detect_face_in_image(path, size = (160, 160)):\n",
    "\n",
    "    face_detected = None\n",
    "    #Carregando imagem do arquivo\n",
    "    img = cv2.imread(path)\n",
    "    \n",
    "    #cv2.imshow(\"Original\", img)\n",
    "    #cv2.waitKey(0)\n",
    "    \n",
    "    #Executando detecção de rosto\n",
    "    faces = face_detector.detect_faces(img)\n",
    "    if (len(faces) > 0):\n",
    "     \n",
    "        #Desenha o retângulo de acordo com suas coordenadas\n",
    "        #Extraindo a caixa delimitadora da face - Boundig box\n",
    "        x, y, w, h = faces[0]['box']\n",
    "        xw, yh = x+w, y+h\n",
    "        img_cropped = img[y:yh, x:xw]\n",
    "        \n",
    "        #Resize\n",
    "        face_detected = cv2.resize(img_cropped, size)\n",
    "    return face_detected"
   ]
  },
  {
   "cell_type": "code",
   "execution_count": null,
   "metadata": {
    "id": "HyGnfhmNy6GO"
   },
   "outputs": [],
   "source": [
    "labels = ['Adult','Child']\n",
    "train_data = []\n",
    "test_data = []"
   ]
  },
  {
   "cell_type": "markdown",
   "metadata": {
    "id": "ji8jrkU0y6GU"
   },
   "source": [
    "#### Função que carrega as imagens de treino"
   ]
  },
  {
   "cell_type": "code",
   "execution_count": null,
   "metadata": {
    "id": "WdBTlKBSy6GV"
   },
   "outputs": [],
   "source": [
    "def load_training_data():\n",
    "\n",
    "    for img in os.listdir(dir_train_adult):\n",
    "        label = 'Adult'#label_img(dir_train_adult)\n",
    "        path = os.path.join(dir_train_adult, img)\n",
    "\n",
    "        try:\n",
    "            #Chama a função que detecta a face\n",
    "            face_detected = detect_face_in_image(path)\n",
    "            if np.sum([face_detected])!=0:\n",
    "                \n",
    "                face_detected = cv2.cvtColor(face_detected, cv2.COLOR_BGR2RGB)\n",
    "                face_array = np.array(face_detected) / 255.0\n",
    "                label_array = np.array(label)\n",
    "                train_data.append([face_array, label_array])\n",
    "        except:\n",
    "            pass\n",
    "        \n",
    "    for img in os.listdir(dir_train_child):\n",
    "        label = 'Child' #label_img(dir_train_child)\n",
    "        path = os.path.join(dir_train_child, img)\n",
    "    \n",
    "        try:\n",
    "            #Chama a função que detecta a face\n",
    "            face_detected = detect_face_in_image(path)\n",
    "            if np.sum([face_detected])!=0:\n",
    "               \n",
    "                face_detected = cv2.cvtColor(face_detected, cv2.COLOR_BGR2RGB)\n",
    "                face_array = np.array(face_detected) / 255.0\n",
    "                label_array = np.array(label)\n",
    "                train_data.append([face_array, label_array])\n",
    "        except:\n",
    "            pass\n",
    "       \n",
    "        \n",
    "    shuffle(train_data)\n",
    "    return train_data"
   ]
  },
  {
   "cell_type": "code",
   "execution_count": null,
   "metadata": {
    "id": "26k_fYeWy6GZ"
   },
   "outputs": [],
   "source": [
    "train_data = load_training_data()"
   ]
  },
  {
   "cell_type": "markdown",
   "metadata": {
    "id": "Ux8iHRs3y6Ge"
   },
   "source": [
    "#### Função que carrega as imagens de teste"
   ]
  },
  {
   "cell_type": "code",
   "execution_count": null,
   "metadata": {
    "id": "KvKnwUIYy6Gf"
   },
   "outputs": [],
   "source": [
    "def load_test_data():\n",
    "\n",
    "    for img in os.listdir(dir_test_adult):\n",
    "        label = 'Adult' #label_img(dir_train_adult)\n",
    "        path = os.path.join(dir_test_adult, img)\n",
    " \n",
    "        try:\n",
    "            #Chama a função que detecta a face\n",
    "            face_detected = detect_face_in_image(path)\n",
    "            if np.sum([face_detected])!=0:\n",
    "               \n",
    "                face_detected = cv2.cvtColor(face_detected, cv2.COLOR_BGR2RGB)\n",
    "                face_array = np.array(face_detected) / 255.0\n",
    "                label_array = np.array(label)\n",
    "                test_data.append([face_array, label_array])\n",
    "        except:\n",
    "            pass\n",
    "    \n",
    "    for img in os.listdir(dir_test_child):\n",
    "        label = 'Child' #label_img(dir_train_child)\n",
    "        path = os.path.join(dir_test_child, img)\n",
    "    \n",
    "        try:\n",
    "            #Chama a função que detecta a face\n",
    "            face_detected = detect_face_in_image(path)\n",
    "            if np.sum([face_detected])!=0:\n",
    "               \n",
    "                face_detected = cv2.cvtColor(face_detected, cv2.COLOR_BGR2RGB)\n",
    "                face_array = np.array(face_detected) / 255.0\n",
    "                label_array = np.array(label)\n",
    "                test_data.append([face_array, label_array])\n",
    "        except:\n",
    "            pass\n",
    "       \n",
    "        \n",
    "    shuffle(test_data)\n",
    "    return test_data"
   ]
  },
  {
   "cell_type": "code",
   "execution_count": null,
   "metadata": {
    "id": "7CYufC11y6Gk"
   },
   "outputs": [],
   "source": [
    "test_data = load_test_data()"
   ]
  },
  {
   "cell_type": "code",
   "execution_count": null,
   "metadata": {
    "id": "H5aKDKiFy6Gv"
   },
   "outputs": [],
   "source": [
    "train_images = np.array([i[0] for i in train_data])\n",
    "train_labels = np.array([i[1] for i in train_data])"
   ]
  },
  {
   "cell_type": "code",
   "execution_count": null,
   "metadata": {
    "id": "7zIuacJmy6G1"
   },
   "outputs": [],
   "source": [
    "test_images = np.array([i[0] for i in test_data])\n",
    "test_labels = np.array([i[1] for i in test_data])"
   ]
  },
  {
   "cell_type": "code",
   "execution_count": null,
   "metadata": {
    "id": "e1kBh1ygy6G8"
   },
   "outputs": [],
   "source": [
    "le = LabelEncoder()\n",
    "labels_train = le.fit_transform(train_labels)\n",
    "labels_test = le.transform(test_labels)"
   ]
  },
  {
   "cell_type": "code",
   "execution_count": null,
   "metadata": {
    "id": "O6AF_pqky6HA"
   },
   "outputs": [],
   "source": [
    "labels_train = to_categorical(labels_train, num_classes=2)\n",
    "labels_test = to_categorical(labels_test, num_classes=2)"
   ]
  },
  {
   "cell_type": "code",
   "execution_count": null,
   "metadata": {
    "id": "vJgc0_pky6HG"
   },
   "outputs": [],
   "source": [
    "X_train = train_images\n",
    "y_train = labels_train"
   ]
  },
  {
   "cell_type": "code",
   "execution_count": null,
   "metadata": {
    "id": "3Jtvsgqny6HM"
   },
   "outputs": [],
   "source": [
    "X_test = test_images\n",
    "y_test = labels_test"
   ]
  },
  {
   "cell_type": "markdown",
   "metadata": {
    "id": "RsniPWICy6HU"
   },
   "source": [
    "#### Definindo Hiperparâmetros\n",
    "<p style='text-align: justify;'>\n",
    "Os hiperparâmetros definem como deseja treinar a rede neural (períodos de treinamento), tamanho do lote, taxa de aprendizado, função de otimização, configuração da rede neural (camadas, unidades ocultas em camadas, função de ativação, etc). \n",
    "Durante a fase de treinamento de um projeto de aprendizado profundo, você pode querer ajustar esses hiperparâmetros para obter o desempenho ideal do modelo de rede neural.</p>"
   ]
  },
  {
   "cell_type": "code",
   "execution_count": null,
   "metadata": {
    "id": "JZgXvLhgy6HW"
   },
   "outputs": [],
   "source": [
    "batchSize   = 32\n",
    "max_epochs  = 5\n",
    "inputShape  = (160, 160, 3)\n",
    "optimizer   = optimizers.RMSprop(lr=2e-5)"
   ]
  },
  {
   "cell_type": "markdown",
   "metadata": {
    "id": "fTovNGK5y6Hc"
   },
   "source": [
    "## TRANSFER LEARNING\n",
    "<p style='text-align: justify;'>\n",
    "A aprendizagem por transferência tem o benefício de diminuir o tempo de treinamento para um modelo de rede neural e pode resultar em um erro de generalização menor. O objetivo é aproveitar os dados da primeira configuração para extrair informações que podem ser úteis ao aprender ou mesmo ao fazer previsões diretamente na segunda configuração.</p>\n",
    "\n",
    "https://machinelearningmastery.com/how-to-improve-performance-with-transfer-learning-for-deep-learning-neural-networks/ "
   ]
  },
  {
   "cell_type": "markdown",
   "metadata": {
    "id": "2dLVKk_oy6Hc"
   },
   "source": [
    "### InceptionResNetV2\n",
    "Modelo Inception-ResNet V2, com pesos pré-treinados em ImageNet. \n",
    "\n",
    "Arquitetura Inception, demonstrou atingir um desempenho muito bom a um custo computacional relativamente baixo.\n",
    "https://arxiv.org/abs/1602.07261 (arXiv:1602.07261 [cs.CV]as bibtex)"
   ]
  },
  {
   "cell_type": "code",
   "execution_count": null,
   "metadata": {
    "id": "6ybpFeyNy6Hd"
   },
   "outputs": [],
   "source": [
    "conv_base = InceptionResNetV2(weights='imagenet', include_top=False, input_shape=inputShape)"
   ]
  },
  {
   "cell_type": "code",
   "execution_count": null,
   "metadata": {
    "id": "28wDFZUpy6Hk"
   },
   "outputs": [],
   "source": [
    "model = Sequential()\n",
    "model.add(conv_base)\n",
    "model.add(Flatten())\n",
    "model.add(Dense(1024, activation='relu'))\n",
    "model.add(Dense(2, activation='sigmoid'))\n",
    "model.compile(loss='binary_crossentropy', optimizer=optimizer, metrics=['acc'])"
   ]
  },
  {
   "cell_type": "markdown",
   "metadata": {
    "id": "p3WErBSfy6Hu"
   },
   "source": [
    "#### Ajusta o gerador de treinamento"
   ]
  },
  {
   "cell_type": "code",
   "execution_count": null,
   "metadata": {
    "id": "P260wbyZy6Hu",
    "outputId": "bba1e66d-4b71-45c3-9789-cc6bc29785cd"
   },
   "outputs": [
    {
     "name": "stdout",
     "output_type": "stream",
     "text": [
      "Iniciando treinamento... \n",
      "Epoch 1/5\n",
      "9560/9560 [==============================] - 422s 44ms/step - loss: 0.3356 - acc: 0.8506\n",
      "Epoch 2/5\n",
      "9560/9560 [==============================] - 335s 35ms/step - loss: 0.1464 - acc: 0.9413\n",
      "Epoch 3/5\n",
      "9560/9560 [==============================] - 335s 35ms/step - loss: 0.0689 - acc: 0.9744\n",
      "Epoch 4/5\n",
      "9560/9560 [==============================] - 335s 35ms/step - loss: 0.0347 - acc: 0.9888\n",
      "Epoch 5/5\n",
      "9560/9560 [==============================] - 335s 35ms/step - loss: 0.0267 - acc: 0.9910\n",
      "Treinamento finalizado \n",
      "\n"
     ]
    }
   ],
   "source": [
    "print(\"Iniciando treinamento... \")\n",
    "\n",
    "history = model.fit(X_train, y_train, batch_size=batchSize, verbose=1, epochs=max_epochs)\n",
    "\n",
    "print(\"Treinamento finalizado \\n\")"
   ]
  },
  {
   "cell_type": "markdown",
   "metadata": {
    "id": "d104Fi-8y6Hw"
   },
   "source": [
    "#### Salvando modelo"
   ]
  },
  {
   "cell_type": "code",
   "execution_count": null,
   "metadata": {
    "id": "A8vBfHkVy6Hx"
   },
   "outputs": [],
   "source": [
    "model.save(\"model_inceptionresnetv2_sigmoid_ac.h5\")"
   ]
  },
  {
   "cell_type": "markdown",
   "metadata": {
    "id": "IQqEHOHWy6Hz"
   },
   "source": [
    "#### Histórico de treinamento (Precisão e Perda)"
   ]
  },
  {
   "cell_type": "code",
   "execution_count": null,
   "metadata": {
    "id": "oBj0s0PMy6Hz",
    "outputId": "fde3f7ec-7529-4860-def9-ce026debfadf"
   },
   "outputs": [
    {
     "name": "stdout",
     "output_type": "stream",
     "text": [
      "dict_keys(['loss', 'acc'])\n"
     ]
    },
    {
     "data": {
      "image/png": "[encoded data removed]",
      "text/plain": [
       "<Figure size 432x288 with 1 Axes>"
      ]
     },
     "metadata": {
      "needs_background": "light",
      "tags": []
     },
     "output_type": "display_data"
    },
    {
     "data": {
      "image/png": "[encoded data removed]",
      "text/plain": [
       "<Figure size 432x288 with 1 Axes>"
      ]
     },
     "metadata": {
      "needs_background": "light",
      "tags": []
     },
     "output_type": "display_data"
    }
   ],
   "source": [
    "# list all data in history\n",
    "print(history.history.keys())\n",
    "# summarize history for accuracy\n",
    "plt.plot(history.history['acc'])\n",
    "plt.title('model accuracy')\n",
    "plt.ylabel('accuracy')\n",
    "plt.xlabel('epoch')\n",
    "plt.legend(['train'], loc='upper left')\n",
    "plt.show()\n",
    "# summarize history for loss\n",
    "plt.plot(history.history['loss'])\n",
    "plt.title('model loss')\n",
    "plt.ylabel('loss')\n",
    "plt.xlabel('epoch')\n",
    "plt.legend(['train'], loc='upper left')\n",
    "plt.show()"
   ]
  },
  {
   "cell_type": "markdown",
   "metadata": {
    "id": "cfc_AgSiy6H1"
   },
   "source": [
    "#### Gerador de Predição\n",
    "Gera previsões para as amostras"
   ]
  },
  {
   "cell_type": "code",
   "execution_count": null,
   "metadata": {
    "id": "tZcLyTPky6H1"
   },
   "outputs": [],
   "source": [
    "y_pred_train = model.predict(X_train)\n",
    "y_pred_test = model.predict(X_test)"
   ]
  },
  {
   "cell_type": "code",
   "execution_count": null,
   "metadata": {
    "id": "1mboejZ9y6H8"
   },
   "outputs": [],
   "source": [
    "y_pred_train = [np.argmax(i) for i in y_pred_train]\n",
    "y_pred_test = [np.argmax(j) for j in y_pred_test]"
   ]
  },
  {
   "cell_type": "code",
   "execution_count": null,
   "metadata": {
    "id": "cHBnrHm2y6H_"
   },
   "outputs": [],
   "source": [
    "y_pred_train = le.inverse_transform(y_pred_train)\n",
    "y_pred_test = le.inverse_transform(y_pred_test)"
   ]
  },
  {
   "cell_type": "code",
   "execution_count": null,
   "metadata": {
    "id": "IPf4nPvqy6ID"
   },
   "outputs": [],
   "source": [
    "y_true_train = [np.argmax(i) for i in y_train]\n",
    "y_true_test = [np.argmax(j) for j in y_test]"
   ]
  },
  {
   "cell_type": "code",
   "execution_count": null,
   "metadata": {
    "id": "cCaw7Bk7y6IH"
   },
   "outputs": [],
   "source": [
    "y_true_train = le.inverse_transform(y_true_train)\n",
    "y_true_test = le.inverse_transform(y_true_test)"
   ]
  },
  {
   "cell_type": "code",
   "execution_count": null,
   "metadata": {
    "id": "y8eemRoEy6IL",
    "outputId": "a176b87a-99cb-4608-96b7-ab4343ab2cc2"
   },
   "outputs": [
    {
     "data": {
      "text/plain": [
       "'Child'"
      ]
     },
     "execution_count": 28,
     "metadata": {
      "tags": []
     },
     "output_type": "execute_result"
    }
   ],
   "source": [
    "y_true_train[1]"
   ]
  },
  {
   "cell_type": "code",
   "execution_count": null,
   "metadata": {
    "id": "My7QHKzby6IS",
    "outputId": "efbc27df-f178-4733-e3e9-f7adf2e27a9c"
   },
   "outputs": [
    {
     "data": {
      "text/plain": [
       "'Child'"
      ]
     },
     "execution_count": 29,
     "metadata": {
      "tags": []
     },
     "output_type": "execute_result"
    }
   ],
   "source": [
    "y_true_test[1]"
   ]
  },
  {
   "cell_type": "code",
   "execution_count": null,
   "metadata": {
    "id": "Pbq4AwlCy6IW",
    "outputId": "b146975c-6a1d-4015-b5cb-6247ca86cf7b"
   },
   "outputs": [
    {
     "name": "stdout",
     "output_type": "stream",
     "text": [
      "Performance do treinamento\n",
      "              precision    recall  f1-score   support\n",
      "\n",
      "       Adult       0.99      1.00      1.00      5759\n",
      "       Child       1.00      0.99      0.99      3801\n",
      "\n",
      "    accuracy                           0.99      9560\n",
      "   macro avg       1.00      0.99      0.99      9560\n",
      "weighted avg       0.99      0.99      0.99      9560\n",
      "\n",
      "Performance do teste\n",
      "              precision    recall  f1-score   support\n",
      "\n",
      "       Adult       0.92      0.99      0.96      2472\n",
      "       Child       0.99      0.87      0.93      1645\n",
      "\n",
      "    accuracy                           0.95      4117\n",
      "   macro avg       0.96      0.93      0.94      4117\n",
      "weighted avg       0.95      0.95      0.94      4117\n",
      "\n"
     ]
    }
   ],
   "source": [
    "print('Performance do treinamento')\n",
    "print(classification_report(y_true_train, y_pred_train))\n",
    "\n",
    "print('Performance do teste')\n",
    "print(classification_report(y_true_test, y_pred_test))"
   ]
  },
  {
   "cell_type": "code",
   "execution_count": null,
   "metadata": {
    "id": "9jIrwb3jy6Ic",
    "outputId": "34991fb6-0934-4376-c2a5-8f0c75d07b17"
   },
   "outputs": [
    {
     "data": {
      "text/plain": [
       "array([[2457,   15],\n",
       "       [ 209, 1436]])"
      ]
     },
     "execution_count": 31,
     "metadata": {
      "tags": []
     },
     "output_type": "execute_result"
    }
   ],
   "source": [
    "cm = confusion_matrix(y_true_test, y_pred_test)\n",
    "cm"
   ]
  },
  {
   "cell_type": "code",
   "execution_count": null,
   "metadata": {
    "id": "cy0wOWAwy6Ii",
    "outputId": "d9ca291c-e9e6-46eb-bd1f-933ace6a4912"
   },
   "outputs": [
    {
     "data": {
      "image/png": "[encoded data removed]",
      "text/plain": [
       "<Figure size 396x288 with 2 Axes>"
      ]
     },
     "metadata": {
      "needs_background": "light",
      "tags": []
     },
     "output_type": "display_data"
    }
   ],
   "source": [
    "import pandas as pd\n",
    "import seaborn as sns\n",
    "cm_df = pd.DataFrame(cm,\n",
    "                     index = le.classes_, \n",
    "                     columns = le.classes_)\n",
    "\n",
    "plt.figure(figsize=(5.5,4))\n",
    "sns.heatmap(cm_df, annot=True, cmap=\"YlGn\")\n",
    "plt.title('InceptionResNetV2 \\nAccuracy:{0:.3f}'.format(accuracy_score(y_true_test, y_pred_test)))\n",
    "plt.ylabel('True label')\n",
    "plt.xlabel('Predicted label')\n",
    "plt.show()"
   ]
  },
  {
   "cell_type": "code",
   "execution_count": null,
   "metadata": {
    "id": "4QUBoQowy6Io"
   },
   "outputs": [],
   "source": []
  }
 ],
 "metadata": {
  "colab": {
   "collapsed_sections": [
    "Ux8iHRs3y6Ge",
    "RsniPWICy6HU",
    "p3WErBSfy6Hu",
    "d104Fi-8y6Hw",
    "IQqEHOHWy6Hz",
    "cfc_AgSiy6H1"
   ],
   "name": "InceptionResNetV2 - MTCNN - Optimizer=RMSprop - Sigmoid.ipynb",
   "provenance": []
  },
  "kernelspec": {
   "display_name": "Python 3",
   "language": "python",
   "name": "python3"
  },
  "language_info": {
   "codemirror_mode": {
    "name": "ipython",
    "version": 3
   },
   "file_extension": ".py",
   "mimetype": "text/x-python",
   "name": "python",
   "nbconvert_exporter": "python",
   "pygments_lexer": "ipython3",
   "version": "3.6.5"
  }
 },
 "nbformat": 4,
 "nbformat_minor": 1
}
