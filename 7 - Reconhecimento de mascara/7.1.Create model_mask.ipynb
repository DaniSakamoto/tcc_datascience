{
 "cells": [
  {
   "cell_type": "markdown",
   "metadata": {
    "id": "0F42AjbB2R8z"
   },
   "source": [
    "## Trabalho de conclusão do curso de Especialização em Ciência de Dados da Facens\n",
    "## Faculdade de Engenharia de Sorocaba\n",
    "\n",
    "**Alunos:** \n",
    "<p>\n",
    "<p>Dani Shizue Sakamoto\n",
    "<p>Mariana de Castro Pires Tavares Albuquerque\n",
    "<p>Tan Kin Wah"
   ]
  },
  {
   "cell_type": "markdown",
   "metadata": {
    "id": "Yj-NnHrJ2YHL"
   },
   "source": [
    "<h2><center>Modelo para reconhecimento de faces com ou sem Máscaras em imagens/vídeos</center></h2>"
   ]
  },
  {
   "cell_type": "markdown",
   "metadata": {
    "id": "Bx5EI8io2RHr"
   },
   "source": [
    "## 2.Criacao do modelo\n",
    "\n",
    "Essa é a etapa fundamental onde engloba o maior nucle de teste e processamento, para assim gerar o modelo em perfeito estado.\n",
    "\n",
    "- Base de imagens (open data) de pessoas com mascara e sem mascara\n",
    "\n",
    "\n",
    "- Dividir o dataset de imagens em conjunto de teste e conjunto de treino \n",
    "\n",
    "\n",
    "- Aplicar a técnica de aumento de dados (Data Augmentation)\n",
    "\n",
    "\n",
    "- Aplicar a técnica de transferência de inteligência entre redes neurais (Transfer Learning)\n",
    "\n",
    "\n",
    "- Treinar uma Rede Neural Convolucional com o Tensorflow/Keras para detectar automaticamente mascara e sem mascara nas imagens/videos \n",
    "\n",
    "\n",
    "- Avaliar os resultados sob uma perspectiva educacional\n",
    "\n",
    "Fonte : https://github.com/sandeco/CanalSandeco/tree/master/Deep%20Learning%20s%C3%A9rie/%2316%20-%20Detectando%20Faces%20em%20v%C3%ADdeo%20com%20Deep%20Learning"
   ]
  },
  {
   "cell_type": "markdown",
   "metadata": {
    "id": "FgthANLc2RHt"
   },
   "source": [
    "## importações de bibliotecas"
   ]
  },
  {
   "cell_type": "code",
   "execution_count": null,
   "metadata": {
    "id": "Iw63gy_R2RHu"
   },
   "outputs": [],
   "source": [
    "from PIL import Image\n",
    "from os import listdir\n",
    "from os.path import isdir\n",
    "import numpy as np\n",
    "from sklearn.model_selection import train_test_split\n",
    "from sklearn.preprocessing import LabelBinarizer\n",
    "from tensorflow.keras.preprocessing.image import ImageDataGenerator\n",
    "from tensorflow.keras.applications import VGG19\n",
    "from tensorflow.keras.utils import to_categorical\n",
    "from tensorflow.keras import layers\n",
    "from tensorflow.keras import models\n",
    "from tensorflow.keras import optimizers"
   ]
  },
  {
   "cell_type": "markdown",
   "metadata": {
    "id": "VMfv10XI2RHy"
   },
   "source": [
    "### Carregando uma imagem"
   ]
  },
  {
   "cell_type": "code",
   "execution_count": null,
   "metadata": {
    "id": "oSs8NPcA2RHz"
   },
   "outputs": [],
   "source": [
    "def select_image(filename):\n",
    "    # load image from file\n",
    "    image = Image.open(filename)\n",
    "    # convert to RGB, if needed\n",
    "    image = image.convert('RGB')\n",
    "    image = image.resize((160,160))\n",
    "    # convert to array\n",
    "    return np.asarray(image)"
   ]
  },
  {
   "cell_type": "markdown",
   "metadata": {
    "id": "HIiCe-Mt2RH2"
   },
   "source": [
    "### Carregando uma classe"
   ]
  },
  {
   "cell_type": "code",
   "execution_count": null,
   "metadata": {
    "id": "I6w-ZeSy2RH3"
   },
   "outputs": [],
   "source": [
    "def load_classes(diretorio, classe, imagens, labels):\n",
    "    # iterando arquivos\n",
    "\n",
    "    for filename in listdir(diretorio):\n",
    "\n",
    "        path = diretorio + filename\n",
    "\n",
    "        try:\n",
    "            imagens.append(select_image(path))\n",
    "            labels.append(classe)\n",
    "        except:\n",
    "            print(\"Erro ao ler imagem {}\".format(path))\n",
    "\n",
    "    return imagens, labels"
   ]
  },
  {
   "cell_type": "markdown",
   "metadata": {
    "id": "gFqxgTzd2RH6"
   },
   "source": [
    "### Selecionando Dataset"
   ]
  },
  {
   "cell_type": "code",
   "execution_count": null,
   "metadata": {
    "id": "YT-iL5TU2RH7"
   },
   "outputs": [],
   "source": [
    "def select_data_set(diretorio):\n",
    "\n",
    "    imagens = list()\n",
    "    labels = list()\n",
    "\n",
    "    for subdir in listdir(diretorio):\n",
    "        # path\n",
    "        path = diretorio + subdir + '\\\\'\n",
    "\n",
    "        if not isdir(path):\n",
    "            continue\n",
    "        imagens, labels = load_classes(path, subdir, imagens, labels)\n",
    "\n",
    "    return imagens, labels"
   ]
  },
  {
   "cell_type": "markdown",
   "metadata": {
    "id": "6__vBK782RH-"
   },
   "source": [
    "### Carregando dataset Covid-19"
   ]
  },
  {
   "cell_type": "code",
   "execution_count": null,
   "metadata": {
    "id": "hvsZSTHS2RH-"
   },
   "outputs": [],
   "source": [
    "covid_dataset = r\"C:\\Users\\TAN_WAH\\MASK\\faces\\\\\"\n",
    "imagens, labels  = select_data_set(covid_dataset)\n",
    "imagens = np.array(imagens) / 255.0  ## convertendo de lista para array\n",
    "labels = np.array(labels)  ## convertendo de lista para array"
   ]
  },
  {
   "cell_type": "markdown",
   "metadata": {
    "id": "JtWiFsAg2RIB"
   },
   "source": [
    "### Tratando classes - Labels"
   ]
  },
  {
   "cell_type": "code",
   "execution_count": null,
   "metadata": {
    "id": "X0jEh5gl2RIC"
   },
   "outputs": [],
   "source": [
    "lb = LabelBinarizer()\n",
    "labels = lb.fit_transform(labels)\n",
    "labels = to_categorical(labels)"
   ]
  },
  {
   "cell_type": "markdown",
   "metadata": {
    "id": "XIt4z8xn2RIE"
   },
   "source": [
    "### Definindo hyperparametros"
   ]
  },
  {
   "cell_type": "code",
   "execution_count": null,
   "metadata": {
    "id": "HPzYXgV02RIF"
   },
   "outputs": [],
   "source": [
    "batch_size   = 32\n",
    "input_shape  = (160, 160, 3)\n",
    "random_state = 42\n",
    "alpha        = 1e-5\n",
    "epoch        = 40"
   ]
  },
  {
   "cell_type": "markdown",
   "metadata": {
    "id": "iuBx173w2RIH"
   },
   "source": [
    "## CALLBACKS\n",
    "\n",
    "Callback são classes que auxiliam o treinamento do modelo usando o Keras. As classes que usaremos são:\n",
    "\n",
    "- ModelCheckpoint\n",
    "- ReduceLROnPlateau\n",
    "- EarlyStopping"
   ]
  },
  {
   "cell_type": "code",
   "execution_count": null,
   "metadata": {
    "id": "jHudiQqE2RII"
   },
   "outputs": [],
   "source": [
    "from tensorflow.keras.callbacks import ModelCheckpoint, ReduceLROnPlateau"
   ]
  },
  {
   "cell_type": "markdown",
   "metadata": {
    "id": "ByrFgtgs2RIK"
   },
   "source": [
    "#### ModelCheckpoint\n",
    "\n",
    "ModelCheckpoint nos ajudará a salvar o modelo para cada época, para que possamos treinar nosso modelo e não nos preocuparmos com possíveis problemas que possam acontecer, como travamento da máquina.\n",
    "\n",
    "- **filepath**: onde será salvo o modelo\n",
    "- **monitor**: métrica a ser monitorada\n",
    "- **verbose**: (1) mostra na barra de progresso (0) não\n",
    "- **save_best_only**: Salvar somente o melhor modelo\n",
    "- **mode**: como vamos monitorar o 'val_acc' o valor aqui vai ser 'max'. Queremos a máxima acurácia.\n"
   ]
  },
  {
   "cell_type": "code",
   "execution_count": null,
   "metadata": {
    "id": "jUD5h16I2RIK"
   },
   "outputs": [],
   "source": [
    "filepath=\"MASK.h5\"\n",
    "checkpoint = ModelCheckpoint(filepath, monitor='val_acc', verbose=1, save_best_only=True, mode='max')"
   ]
  },
  {
   "cell_type": "markdown",
   "metadata": {
    "id": "D8r8QqlW2RIM"
   },
   "source": [
    "#### ReduceLROnPlateau\n",
    "\n",
    "Nos auxiliara a reduzir a taxa de aprendizado pelo fator (factor) caso não ocorra a mudança no loss.\n",
    "\n",
    "- **monitor**: métrica a ser monitorada\n",
    "- **factor**: fator de redução caso estejamos em um plator\n",
    "- **min_delta**: valor mínimo da perda\n",
    "- **patience**: só altere pelo fator após se repitir por 'patience' vezes.\n",
    "- **verbose**: (1) mostra na barra de progresso (0) não\n"
   ]
  },
  {
   "cell_type": "code",
   "execution_count": null,
   "metadata": {
    "id": "S_t2xcGG2RIN"
   },
   "outputs": [],
   "source": [
    "lr_reduce = ReduceLROnPlateau(monitor='val_acc', factor=0.1, min_delta=alpha, patience=5, verbose=1)"
   ]
  },
  {
   "cell_type": "markdown",
   "metadata": {
    "id": "bLXVUGYj2RIQ"
   },
   "source": [
    "### Array de Callbacks"
   ]
  },
  {
   "cell_type": "code",
   "execution_count": null,
   "metadata": {
    "id": "HMxjti5J2RIQ"
   },
   "outputs": [],
   "source": [
    "callbacks = [checkpoint, lr_reduce]"
   ]
  },
  {
   "cell_type": "markdown",
   "metadata": {
    "id": "5SeBOwrf2RIT"
   },
   "source": [
    "### Particionando dataset em teste e treino"
   ]
  },
  {
   "cell_type": "code",
   "execution_count": null,
   "metadata": {
    "id": "a8brFUYO2RIT"
   },
   "outputs": [],
   "source": [
    "(trainX, testX, trainY, testY) = train_test_split(imagens, labels, test_size=0.20, stratify=labels, random_state=random_state)"
   ]
  },
  {
   "cell_type": "markdown",
   "metadata": {
    "id": "ilEQm3KM2RIV"
   },
   "source": [
    "## DATA AUGMENTATION"
   ]
  },
  {
   "cell_type": "code",
   "execution_count": null,
   "metadata": {
    "id": "e6uC67V-2RIV"
   },
   "outputs": [],
   "source": [
    "train_datagen = ImageDataGenerator(\n",
    "        horizontal_flip= True,\n",
    "        rotation_range=20,\n",
    "        zoom_range=0.2,\n",
    "        width_shift_range=0.2,\n",
    "        height_shift_range=0.2,\n",
    "        shear_range=0.2,\n",
    "        fill_mode='nearest'\n",
    "        )\n",
    "\n",
    "train_datagen.fit(trainX)\n",
    "\n",
    "data_aug = train_datagen.flow(trainX, trainY, batch_size=batch_size)"
   ]
  },
  {
   "cell_type": "markdown",
   "metadata": {
    "id": "DxymLpen2RIY"
   },
   "source": [
    "## TRANSFER LEARNING"
   ]
  },
  {
   "cell_type": "code",
   "execution_count": null,
   "metadata": {
    "id": "gntaGGzF2RIY"
   },
   "outputs": [],
   "source": [
    "conv_base = VGG19(weights='imagenet', include_top=False, input_shape=input_shape)"
   ]
  },
  {
   "cell_type": "code",
   "execution_count": null,
   "metadata": {
    "id": "ayy0wdLO2RIf",
    "outputId": "b60543ef-8afd-48aa-f785-dfae8f7e249a"
   },
   "outputs": [
    {
     "name": "stdout",
     "output_type": "stream",
     "text": [
      "Model: \"vgg19\"\n",
      "_________________________________________________________________\n",
      "Layer (type)                 Output Shape              Param #   \n",
      "=================================================================\n",
      "input_1 (InputLayer)         [(None, 160, 160, 3)]     0         \n",
      "_________________________________________________________________\n",
      "block1_conv1 (Conv2D)        (None, 160, 160, 64)      1792      \n",
      "_________________________________________________________________\n",
      "block1_conv2 (Conv2D)        (None, 160, 160, 64)      36928     \n",
      "_________________________________________________________________\n",
      "block1_pool (MaxPooling2D)   (None, 80, 80, 64)        0         \n",
      "_________________________________________________________________\n",
      "block2_conv1 (Conv2D)        (None, 80, 80, 128)       73856     \n",
      "_________________________________________________________________\n",
      "block2_conv2 (Conv2D)        (None, 80, 80, 128)       147584    \n",
      "_________________________________________________________________\n",
      "block2_pool (MaxPooling2D)   (None, 40, 40, 128)       0         \n",
      "_________________________________________________________________\n",
      "block3_conv1 (Conv2D)        (None, 40, 40, 256)       295168    \n",
      "_________________________________________________________________\n",
      "block3_conv2 (Conv2D)        (None, 40, 40, 256)       590080    \n",
      "_________________________________________________________________\n",
      "block3_conv3 (Conv2D)        (None, 40, 40, 256)       590080    \n",
      "_________________________________________________________________\n",
      "block3_conv4 (Conv2D)        (None, 40, 40, 256)       590080    \n",
      "_________________________________________________________________\n",
      "block3_pool (MaxPooling2D)   (None, 20, 20, 256)       0         \n",
      "_________________________________________________________________\n",
      "block4_conv1 (Conv2D)        (None, 20, 20, 512)       1180160   \n",
      "_________________________________________________________________\n",
      "block4_conv2 (Conv2D)        (None, 20, 20, 512)       2359808   \n",
      "_________________________________________________________________\n",
      "block4_conv3 (Conv2D)        (None, 20, 20, 512)       2359808   \n",
      "_________________________________________________________________\n",
      "block4_conv4 (Conv2D)        (None, 20, 20, 512)       2359808   \n",
      "_________________________________________________________________\n",
      "block4_pool (MaxPooling2D)   (None, 10, 10, 512)       0         \n",
      "_________________________________________________________________\n",
      "block5_conv1 (Conv2D)        (None, 10, 10, 512)       2359808   \n",
      "_________________________________________________________________\n",
      "block5_conv2 (Conv2D)        (None, 10, 10, 512)       2359808   \n",
      "_________________________________________________________________\n",
      "block5_conv3 (Conv2D)        (None, 10, 10, 512)       2359808   \n",
      "_________________________________________________________________\n",
      "block5_conv4 (Conv2D)        (None, 10, 10, 512)       2359808   \n",
      "_________________________________________________________________\n",
      "block5_pool (MaxPooling2D)   (None, 5, 5, 512)         0         \n",
      "=================================================================\n",
      "Total params: 20,024,384\n",
      "Trainable params: 20,024,384\n",
      "Non-trainable params: 0\n",
      "_________________________________________________________________\n"
     ]
    }
   ],
   "source": [
    "conv_base.summary()"
   ]
  },
  {
   "cell_type": "markdown",
   "metadata": {
    "id": "Uk2quYO62RIi"
   },
   "source": [
    "### Retreinando parte da VGG19\n",
    "\n",
    "\n",
    "explicar aqui"
   ]
  },
  {
   "cell_type": "code",
   "execution_count": null,
   "metadata": {
    "id": "5sGDZxLA2RIi",
    "outputId": "afc50943-4bc5-4e65-e53d-85f158fb6d73"
   },
   "outputs": [
    {
     "data": {
      "text/plain": [
       "\"\\nfor layer in conv_base.layers:\\n  if layer.name == 'block5_conv1':\\n    set_trainable = True\\n  if set_trainable:\\n    layer.trainable = True\\n  else:\\n    layer.trainable = False\\n\""
      ]
     },
     "execution_count": 18,
     "metadata": {
      "tags": []
     },
     "output_type": "execute_result"
    }
   ],
   "source": [
    "conv_base.trainable = True\n",
    "set_trainable = False\n",
    "\n",
    "\"\"\"\n",
    "for layer in conv_base.layers:\n",
    "  if layer.name == 'block5_conv1':\n",
    "    set_trainable = True\n",
    "  if set_trainable:\n",
    "    layer.trainable = True\n",
    "  else:\n",
    "    layer.trainable = False\n",
    "\"\"\""
   ]
  },
  {
   "cell_type": "code",
   "execution_count": null,
   "metadata": {
    "id": "52Uz3Lsl2RIk",
    "outputId": "ab643ee5-fcf9-47e1-88d6-463679fec775"
   },
   "outputs": [
    {
     "name": "stdout",
     "output_type": "stream",
     "text": [
      "Model: \"vgg19\"\n",
      "_________________________________________________________________\n",
      "Layer (type)                 Output Shape              Param #   \n",
      "=================================================================\n",
      "input_1 (InputLayer)         [(None, 160, 160, 3)]     0         \n",
      "_________________________________________________________________\n",
      "block1_conv1 (Conv2D)        (None, 160, 160, 64)      1792      \n",
      "_________________________________________________________________\n",
      "block1_conv2 (Conv2D)        (None, 160, 160, 64)      36928     \n",
      "_________________________________________________________________\n",
      "block1_pool (MaxPooling2D)   (None, 80, 80, 64)        0         \n",
      "_________________________________________________________________\n",
      "block2_conv1 (Conv2D)        (None, 80, 80, 128)       73856     \n",
      "_________________________________________________________________\n",
      "block2_conv2 (Conv2D)        (None, 80, 80, 128)       147584    \n",
      "_________________________________________________________________\n",
      "block2_pool (MaxPooling2D)   (None, 40, 40, 128)       0         \n",
      "_________________________________________________________________\n",
      "block3_conv1 (Conv2D)        (None, 40, 40, 256)       295168    \n",
      "_________________________________________________________________\n",
      "block3_conv2 (Conv2D)        (None, 40, 40, 256)       590080    \n",
      "_________________________________________________________________\n",
      "block3_conv3 (Conv2D)        (None, 40, 40, 256)       590080    \n",
      "_________________________________________________________________\n",
      "block3_conv4 (Conv2D)        (None, 40, 40, 256)       590080    \n",
      "_________________________________________________________________\n",
      "block3_pool (MaxPooling2D)   (None, 20, 20, 256)       0         \n",
      "_________________________________________________________________\n",
      "block4_conv1 (Conv2D)        (None, 20, 20, 512)       1180160   \n",
      "_________________________________________________________________\n",
      "block4_conv2 (Conv2D)        (None, 20, 20, 512)       2359808   \n",
      "_________________________________________________________________\n",
      "block4_conv3 (Conv2D)        (None, 20, 20, 512)       2359808   \n",
      "_________________________________________________________________\n",
      "block4_conv4 (Conv2D)        (None, 20, 20, 512)       2359808   \n",
      "_________________________________________________________________\n",
      "block4_pool (MaxPooling2D)   (None, 10, 10, 512)       0         \n",
      "_________________________________________________________________\n",
      "block5_conv1 (Conv2D)        (None, 10, 10, 512)       2359808   \n",
      "_________________________________________________________________\n",
      "block5_conv2 (Conv2D)        (None, 10, 10, 512)       2359808   \n",
      "_________________________________________________________________\n",
      "block5_conv3 (Conv2D)        (None, 10, 10, 512)       2359808   \n",
      "_________________________________________________________________\n",
      "block5_conv4 (Conv2D)        (None, 10, 10, 512)       2359808   \n",
      "_________________________________________________________________\n",
      "block5_pool (MaxPooling2D)   (None, 5, 5, 512)         0         \n",
      "=================================================================\n",
      "Total params: 20,024,384\n",
      "Trainable params: 20,024,384\n",
      "Non-trainable params: 0\n",
      "_________________________________________________________________\n"
     ]
    }
   ],
   "source": [
    "conv_base.summary()"
   ]
  },
  {
   "cell_type": "markdown",
   "metadata": {
    "id": "X2Kf2FnZ2RIm"
   },
   "source": [
    "## CRIANDO O MODELO COM A VGG19 COMO BASE"
   ]
  },
  {
   "cell_type": "code",
   "execution_count": null,
   "metadata": {
    "id": "sL_2iNPf2RIm"
   },
   "outputs": [],
   "source": [
    "model = models.Sequential()\n",
    "model.add(conv_base)\n",
    "model.add(layers.GlobalAveragePooling2D())\n",
    "model.add(layers.BatchNormalization())\n",
    "model.add(layers.Flatten())\n",
    "model.add(layers.Dense(32, activation='relu'))\n",
    "model.add(layers.Dropout(0.5))\n",
    "model.add(layers.Dense(2, activation='softmax'))"
   ]
  },
  {
   "cell_type": "code",
   "execution_count": null,
   "metadata": {
    "id": "hevh7pAh2RIo",
    "outputId": "2b911fa4-681b-4367-f310-586a12ffa021"
   },
   "outputs": [
    {
     "name": "stdout",
     "output_type": "stream",
     "text": [
      "Model: \"sequential\"\n",
      "_________________________________________________________________\n",
      "Layer (type)                 Output Shape              Param #   \n",
      "=================================================================\n",
      "vgg19 (Functional)           (None, 5, 5, 512)         20024384  \n",
      "_________________________________________________________________\n",
      "global_average_pooling2d (Gl (None, 512)               0         \n",
      "_________________________________________________________________\n",
      "batch_normalization (BatchNo (None, 512)               2048      \n",
      "_________________________________________________________________\n",
      "flatten (Flatten)            (None, 512)               0         \n",
      "_________________________________________________________________\n",
      "dense (Dense)                (None, 32)                16416     \n",
      "_________________________________________________________________\n",
      "dropout (Dropout)            (None, 32)                0         \n",
      "_________________________________________________________________\n",
      "dense_1 (Dense)              (None, 2)                 66        \n",
      "=================================================================\n",
      "Total params: 20,042,914\n",
      "Trainable params: 20,041,890\n",
      "Non-trainable params: 1,024\n",
      "_________________________________________________________________\n"
     ]
    }
   ],
   "source": [
    "model.summary()"
   ]
  },
  {
   "cell_type": "markdown",
   "metadata": {
    "id": "BHZtDO-Q2RIq"
   },
   "source": [
    "## COMPILANDO O MODELO"
   ]
  },
  {
   "cell_type": "code",
   "execution_count": null,
   "metadata": {
    "id": "qtUtkLcb2RIq"
   },
   "outputs": [],
   "source": [
    "model.compile(loss='binary_crossentropy',\n",
    "                  optimizer='adam',\n",
    "                  metrics=['acc'])"
   ]
  },
  {
   "cell_type": "markdown",
   "metadata": {
    "id": "aFcLLzqR2RIs"
   },
   "source": [
    "## TREINANDO O MODELO\n",
    "\n",
    "***Obs: não treinar na hora da live***"
   ]
  },
  {
   "cell_type": "code",
   "execution_count": null,
   "metadata": {
    "id": "5y7WDKkv2RIs",
    "outputId": "ac32476b-61ab-44ec-918b-4f609eee5815"
   },
   "outputs": [
    {
     "name": "stdout",
     "output_type": "stream",
     "text": [
      "WARNING:tensorflow:From <ipython-input-23-157b40edf3b9>:7: Model.fit_generator (from tensorflow.python.keras.engine.training) is deprecated and will be removed in a future version.\n",
      "Instructions for updating:\n",
      "Please use Model.fit, which supports generators.\n",
      "Epoch 1/40\n",
      "47/47 [==============================] - ETA: 0s - loss: 0.3844 - acc: 0.8428 \n",
      "Epoch 00001: val_acc improved from -inf to 0.50000, saving model to MASK.h5\n",
      "47/47 [==============================] - 602s 13s/step - loss: 0.3844 - acc: 0.8428 - val_loss: 7.6685 - val_acc: 0.5000\n",
      "Epoch 2/40\n",
      "47/47 [==============================] - ETA: 0s - loss: 0.2719 - acc: 0.9014 \n",
      "Epoch 00002: val_acc did not improve from 0.50000\n",
      "47/47 [==============================] - 593s 13s/step - loss: 0.2719 - acc: 0.9014 - val_loss: 7.6685 - val_acc: 0.5000\n",
      "Epoch 3/40\n",
      "47/47 [==============================] - ETA: 0s - loss: 0.2305 - acc: 0.9134 \n",
      "Epoch 00003: val_acc did not improve from 0.50000\n",
      "47/47 [==============================] - 592s 13s/step - loss: 0.2305 - acc: 0.9134 - val_loss: 3.6737 - val_acc: 0.5000\n",
      "Epoch 4/40\n",
      "47/47 [==============================] - ETA: 0s - loss: 0.2192 - acc: 0.9194 \n",
      "Epoch 00004: val_acc did not improve from 0.50000\n",
      "47/47 [==============================] - 591s 13s/step - loss: 0.2192 - acc: 0.9194 - val_loss: 7.6420 - val_acc: 0.5000\n",
      "Epoch 5/40\n",
      "47/47 [==============================] - ETA: 0s - loss: 0.2070 - acc: 0.9241 \n",
      "Epoch 00005: val_acc improved from 0.50000 to 0.50260, saving model to MASK.h5\n",
      "47/47 [==============================] - 593s 13s/step - loss: 0.2070 - acc: 0.9241 - val_loss: 4.6235 - val_acc: 0.5026\n",
      "Epoch 6/40\n",
      "47/47 [==============================] - ETA: 0s - loss: 0.1875 - acc: 0.9380 \n",
      "Epoch 00006: val_acc improved from 0.50260 to 0.95052, saving model to MASK.h5\n",
      "47/47 [==============================] - 600s 13s/step - loss: 0.1875 - acc: 0.9380 - val_loss: 0.1522 - val_acc: 0.9505\n",
      "Epoch 7/40\n",
      "47/47 [==============================] - ETA: 0s - loss: 0.1758 - acc: 0.9434 \n",
      "Epoch 00007: val_acc did not improve from 0.95052\n",
      "47/47 [==============================] - 601s 13s/step - loss: 0.1758 - acc: 0.9434 - val_loss: 0.9541 - val_acc: 0.6458\n",
      "Epoch 8/40\n",
      "47/47 [==============================] - ETA: 0s - loss: 0.1705 - acc: 0.9427 \n",
      "Epoch 00008: val_acc did not improve from 0.95052\n",
      "47/47 [==============================] - 596s 13s/step - loss: 0.1705 - acc: 0.9427 - val_loss: 6.9655 - val_acc: 0.5000\n",
      "Epoch 9/40\n",
      "47/47 [==============================] - ETA: 0s - loss: 0.1839 - acc: 0.9340 \n",
      "Epoch 00009: val_acc did not improve from 0.95052\n",
      "47/47 [==============================] - 591s 13s/step - loss: 0.1839 - acc: 0.9340 - val_loss: 6.6089 - val_acc: 0.5000\n",
      "Epoch 10/40\n",
      "47/47 [==============================] - ETA: 0s - loss: 0.2265 - acc: 0.9287 \n",
      "Epoch 00010: val_acc did not improve from 0.95052\n",
      "47/47 [==============================] - 592s 13s/step - loss: 0.2265 - acc: 0.9287 - val_loss: 7.6614 - val_acc: 0.5000\n",
      "Epoch 11/40\n",
      "47/47 [==============================] - ETA: 0s - loss: 0.2252 - acc: 0.9194 \n",
      "Epoch 00011: val_acc did not improve from 0.95052\n",
      "\n",
      "Epoch 00011: ReduceLROnPlateau reducing learning rate to 0.00010000000474974513.\n",
      "47/47 [==============================] - 594s 13s/step - loss: 0.2252 - acc: 0.9194 - val_loss: 2.2362 - val_acc: 0.5000\n",
      "Epoch 12/40\n",
      "47/47 [==============================] - ETA: 0s - loss: 0.1655 - acc: 0.9360 \n",
      "Epoch 00012: val_acc did not improve from 0.95052\n",
      "47/47 [==============================] - 593s 13s/step - loss: 0.1655 - acc: 0.9360 - val_loss: 2.3663 - val_acc: 0.5052\n",
      "Epoch 13/40\n",
      "47/47 [==============================] - ETA: 0s - loss: 0.1282 - acc: 0.9607 \n",
      "Epoch 00013: val_acc did not improve from 0.95052\n",
      "47/47 [==============================] - 599s 13s/step - loss: 0.1282 - acc: 0.9607 - val_loss: 0.3611 - val_acc: 0.8568\n",
      "Epoch 14/40\n",
      "47/47 [==============================] - ETA: 0s - loss: 0.1420 - acc: 0.9560 \n",
      "Epoch 00014: val_acc did not improve from 0.95052\n",
      "47/47 [==============================] - 594s 13s/step - loss: 0.1420 - acc: 0.9560 - val_loss: 1.3528 - val_acc: 0.6719\n",
      "Epoch 15/40\n",
      "47/47 [==============================] - ETA: 0s - loss: 0.1356 - acc: 0.9580 \n",
      "Epoch 00015: val_acc did not improve from 0.95052\n",
      "47/47 [==============================] - 593s 13s/step - loss: 0.1356 - acc: 0.9580 - val_loss: 0.1976 - val_acc: 0.9401\n",
      "Epoch 16/40\n",
      "47/47 [==============================] - ETA: 0s - loss: 0.1258 - acc: 0.9580 \n",
      "Epoch 00016: val_acc improved from 0.95052 to 0.96354, saving model to MASK.h5\n",
      "47/47 [==============================] - 592s 13s/step - loss: 0.1258 - acc: 0.9580 - val_loss: 0.1271 - val_acc: 0.9635\n",
      "Epoch 17/40\n",
      "47/47 [==============================] - ETA: 0s - loss: 0.1377 - acc: 0.9574 \n",
      "Epoch 00017: val_acc did not improve from 0.96354\n",
      "47/47 [==============================] - 596s 13s/step - loss: 0.1377 - acc: 0.9574 - val_loss: 0.2947 - val_acc: 0.9062\n",
      "Epoch 18/40\n",
      "47/47 [==============================] - ETA: 0s - loss: 0.1244 - acc: 0.9594 \n",
      "Epoch 00018: val_acc did not improve from 0.96354\n",
      "47/47 [==============================] - 595s 13s/step - loss: 0.1244 - acc: 0.9594 - val_loss: 0.5833 - val_acc: 0.8438\n",
      "Epoch 19/40\n",
      "47/47 [==============================] - ETA: 0s - loss: 0.1395 - acc: 0.9480 \n",
      "Epoch 00019: val_acc did not improve from 0.96354\n",
      "47/47 [==============================] - 592s 13s/step - loss: 0.1395 - acc: 0.9480 - val_loss: 0.7990 - val_acc: 0.8073\n",
      "Epoch 20/40\n",
      "47/47 [==============================] - ETA: 0s - loss: 0.1237 - acc: 0.9620 \n",
      "Epoch 00020: val_acc improved from 0.96354 to 0.97135, saving model to MASK.h5\n",
      "47/47 [==============================] - 594s 13s/step - loss: 0.1237 - acc: 0.9620 - val_loss: 0.1360 - val_acc: 0.9714\n",
      "Epoch 21/40\n",
      "47/47 [==============================] - ETA: 0s - loss: 0.1358 - acc: 0.9594 \n",
      "Epoch 00021: val_acc did not improve from 0.97135\n",
      "47/47 [==============================] - 593s 13s/step - loss: 0.1358 - acc: 0.9594 - val_loss: 0.2221 - val_acc: 0.9427\n",
      "Epoch 22/40\n",
      "47/47 [==============================] - ETA: 0s - loss: 0.1279 - acc: 0.9620 \n",
      "Epoch 00022: val_acc did not improve from 0.97135\n",
      "47/47 [==============================] - 594s 13s/step - loss: 0.1279 - acc: 0.9620 - val_loss: 0.2286 - val_acc: 0.9219\n",
      "Epoch 23/40\n",
      "47/47 [==============================] - ETA: 0s - loss: 0.1270 - acc: 0.9547 \n",
      "Epoch 00023: val_acc improved from 0.97135 to 0.97396, saving model to MASK.h5\n",
      "47/47 [==============================] - 594s 13s/step - loss: 0.1270 - acc: 0.9547 - val_loss: 0.1083 - val_acc: 0.9740\n",
      "Epoch 24/40\n",
      "47/47 [==============================] - ETA: 0s - loss: 0.1235 - acc: 0.9587 \n",
      "Epoch 00024: val_acc did not improve from 0.97396\n",
      "47/47 [==============================] - 594s 13s/step - loss: 0.1235 - acc: 0.9587 - val_loss: 0.4922 - val_acc: 0.8516\n",
      "Epoch 25/40\n",
      "47/47 [==============================] - ETA: 0s - loss: 0.1278 - acc: 0.9574 \n",
      "Epoch 00025: val_acc did not improve from 0.97396\n",
      "47/47 [==============================] - 594s 13s/step - loss: 0.1278 - acc: 0.9574 - val_loss: 0.2448 - val_acc: 0.9036\n",
      "Epoch 26/40\n",
      "47/47 [==============================] - ETA: 0s - loss: 0.1203 - acc: 0.9654 \n",
      "Epoch 00026: val_acc did not improve from 0.97396\n",
      "47/47 [==============================] - 595s 13s/step - loss: 0.1203 - acc: 0.9654 - val_loss: 0.5630 - val_acc: 0.8516\n",
      "Epoch 27/40\n",
      "47/47 [==============================] - ETA: 0s - loss: 0.1226 - acc: 0.9567 \n",
      "Epoch 00027: val_acc improved from 0.97396 to 0.98438, saving model to MASK.h5\n",
      "47/47 [==============================] - 595s 13s/step - loss: 0.1226 - acc: 0.9567 - val_loss: 0.0691 - val_acc: 0.9844\n",
      "Epoch 28/40\n",
      "47/47 [==============================] - ETA: 0s - loss: 0.1323 - acc: 0.9527 \n",
      "Epoch 00028: val_acc did not improve from 0.98438\n",
      "47/47 [==============================] - 594s 13s/step - loss: 0.1323 - acc: 0.9527 - val_loss: 1.1207 - val_acc: 0.7266\n",
      "Epoch 29/40\n",
      "47/47 [==============================] - ETA: 0s - loss: 0.1180 - acc: 0.9654 \n",
      "Epoch 00029: val_acc did not improve from 0.98438\n",
      "47/47 [==============================] - 595s 13s/step - loss: 0.1180 - acc: 0.9654 - val_loss: 0.0864 - val_acc: 0.9740\n",
      "Epoch 30/40\n",
      "47/47 [==============================] - ETA: 0s - loss: 0.1160 - acc: 0.9640 \n",
      "Epoch 00030: val_acc did not improve from 0.98438\n",
      "47/47 [==============================] - 595s 13s/step - loss: 0.1160 - acc: 0.9640 - val_loss: 0.8388 - val_acc: 0.7422\n",
      "Epoch 31/40\n",
      "47/47 [==============================] - ETA: 0s - loss: 0.1001 - acc: 0.9687 \n",
      "Epoch 00031: val_acc did not improve from 0.98438\n",
      "47/47 [==============================] - 593s 13s/step - loss: 0.1001 - acc: 0.9687 - val_loss: 1.0207 - val_acc: 0.6927\n",
      "Epoch 32/40\n",
      "47/47 [==============================] - ETA: 0s - loss: 0.1154 - acc: 0.9620 \n",
      "Epoch 00032: val_acc did not improve from 0.98438\n",
      "\n",
      "Epoch 00032: ReduceLROnPlateau reducing learning rate to 1.0000000474974514e-05.\n",
      "47/47 [==============================] - 611s 13s/step - loss: 0.1154 - acc: 0.9620 - val_loss: 0.0785 - val_acc: 0.9766\n",
      "Epoch 33/40\n",
      "47/47 [==============================] - ETA: 0s - loss: 0.1048 - acc: 0.9661 \n",
      "Epoch 00033: val_acc did not improve from 0.98438\n",
      "47/47 [==============================] - 598s 13s/step - loss: 0.1048 - acc: 0.9661 - val_loss: 0.0836 - val_acc: 0.9792\n",
      "Epoch 34/40\n",
      "47/47 [==============================] - ETA: 0s - loss: 0.0935 - acc: 0.9714 \n",
      "Epoch 00034: val_acc did not improve from 0.98438\n",
      "47/47 [==============================] - 597s 13s/step - loss: 0.0935 - acc: 0.9714 - val_loss: 0.0955 - val_acc: 0.9714\n",
      "Epoch 35/40\n",
      "47/47 [==============================] - ETA: 0s - loss: 0.0920 - acc: 0.9667 \n",
      "Epoch 00035: val_acc did not improve from 0.98438\n",
      "47/47 [==============================] - 597s 13s/step - loss: 0.0920 - acc: 0.9667 - val_loss: 0.0904 - val_acc: 0.9766\n",
      "Epoch 36/40\n",
      "47/47 [==============================] - ETA: 0s - loss: 0.1111 - acc: 0.9594 \n",
      "Epoch 00036: val_acc did not improve from 0.98438\n",
      "47/47 [==============================] - 595s 13s/step - loss: 0.1111 - acc: 0.9594 - val_loss: 0.0730 - val_acc: 0.9792\n",
      "Epoch 37/40\n",
      "47/47 [==============================] - ETA: 0s - loss: 0.0997 - acc: 0.9640 \n",
      "Epoch 00037: val_acc did not improve from 0.98438\n",
      "\n",
      "Epoch 00037: ReduceLROnPlateau reducing learning rate to 1.0000000656873453e-06.\n",
      "47/47 [==============================] - 596s 13s/step - loss: 0.0997 - acc: 0.9640 - val_loss: 0.0887 - val_acc: 0.9766\n",
      "Epoch 38/40\n",
      "47/47 [==============================] - ETA: 0s - loss: 0.1146 - acc: 0.9640 \n",
      "Epoch 00038: val_acc did not improve from 0.98438\n",
      "47/47 [==============================] - 610s 13s/step - loss: 0.1146 - acc: 0.9640 - val_loss: 0.0732 - val_acc: 0.9792\n",
      "Epoch 39/40\n",
      "47/47 [==============================] - ETA: 0s - loss: 0.1034 - acc: 0.9600 \n",
      "Epoch 00039: val_acc did not improve from 0.98438\n",
      "47/47 [==============================] - 601s 13s/step - loss: 0.1034 - acc: 0.9600 - val_loss: 0.0784 - val_acc: 0.9792\n",
      "Epoch 40/40\n",
      "47/47 [==============================] - ETA: 0s - loss: 0.1196 - acc: 0.9627 \n",
      "Epoch 00040: val_acc did not improve from 0.98438\n",
      "47/47 [==============================] - 598s 13s/step - loss: 0.1196 - acc: 0.9627 - val_loss: 0.0871 - val_acc: 0.9740\n"
     ]
    }
   ],
   "source": [
    "history = model.fit_generator(\n",
    "                              data_aug,\n",
    "                              steps_per_epoch=len(trainX)// batch_size, # parte inteira da divisão\n",
    "                              validation_data=(testX, testY),\n",
    "                              validation_steps=len(testX) // batch_size,# parte inteira da divisão\n",
    "                              callbacks=callbacks,\n",
    "                              epochs=epoch)\n",
    "\n"
   ]
  },
  {
   "cell_type": "markdown",
   "metadata": {
    "id": "bBf5Gptj2RIv"
   },
   "source": [
    "# ANALISANDO DADOS"
   ]
  },
  {
   "cell_type": "code",
   "execution_count": null,
   "metadata": {
    "id": "8HOrtEaT2RIv"
   },
   "outputs": [],
   "source": [
    "import matplotlib.pyplot as plt\n",
    "%matplotlib inline"
   ]
  },
  {
   "cell_type": "code",
   "execution_count": null,
   "metadata": {
    "id": "BxyHnEep2RIx",
    "outputId": "8b5069cb-2486-443c-bcb4-1facb71a5933"
   },
   "outputs": [
    {
     "data": {
      "image/png": "[encoded data removed]",
      "text/plain": [
       "<Figure size 432x288 with 1 Axes>"
      ]
     },
     "metadata": {
      "needs_background": "light",
      "tags": []
     },
     "output_type": "display_data"
    },
    {
     "data": {
      "image/png": "[encoded data removed]",
      "text/plain": [
       "<Figure size 432x288 with 1 Axes>"
      ]
     },
     "metadata": {
      "needs_background": "light",
      "tags": []
     },
     "output_type": "display_data"
    }
   ],
   "source": [
    "plt.plot(history.history['acc'])\n",
    "plt.plot(history.history['val_acc'])\n",
    "plt.title('model accuracy')\n",
    "plt.ylabel('accuracy')\n",
    "plt.xlabel('epoch')\n",
    "plt.legend(['train', 'test'], loc='upper left')\n",
    "plt.show()\n",
    "# summarize history for loss\n",
    "plt.plot(history.history['loss'])\n",
    "plt.plot(history.history['val_loss'])\n",
    "plt.title('model loss')\n",
    "plt.ylabel('loss')\n",
    "plt.xlabel('epoch')\n",
    "plt.legend(['train', 'test'], loc='upper left')\n",
    "plt.show()"
   ]
  },
  {
   "cell_type": "markdown",
   "metadata": {
    "id": "gdkLLprc2RIz"
   },
   "source": [
    "## Gerando matriz de confusão"
   ]
  },
  {
   "cell_type": "code",
   "execution_count": null,
   "metadata": {
    "id": "WawRnB_E2RIz"
   },
   "outputs": [],
   "source": [
    "from sklearn.metrics import confusion_matrix\n",
    "pred = model.predict(testX)\n",
    "pred = np.argmax(pred,axis = 1) \n",
    "y_true = np.argmax(testY,axis = 1)"
   ]
  },
  {
   "cell_type": "code",
   "execution_count": null,
   "metadata": {
    "id": "66ekZB_X2RI1",
    "outputId": "f1060df5-bb8c-4b48-fe14-86c13463b8e4"
   },
   "outputs": [
    {
     "name": "stdout",
     "output_type": "stream",
     "text": [
      "Acurácia: 0.9740\n",
      "Sensitividade: 0.9688\n",
      "Especificidade: 0.9792\n"
     ]
    },
    {
     "data": {
      "image/png": "[encoded data removed]",
      "text/plain": [
       "<Figure size 360x360 with 1 Axes>"
      ]
     },
     "metadata": {
      "needs_background": "light",
      "tags": []
     },
     "output_type": "display_data"
    }
   ],
   "source": [
    "cm = confusion_matrix(y_true, pred)\n",
    "total = sum(sum(cm))\n",
    "acc = (cm[0, 0] + cm[1, 1]) / total\n",
    "sensitivity = cm[0, 0] / (cm[0, 0] + cm[0, 1])\n",
    "specificity = cm[1, 1] / (cm[1, 0] + cm[1, 1])\n",
    "\n",
    "print(\"Acurácia: {:.4f}\".format(acc))\n",
    "print(\"Sensitividade: {:.4f}\".format(sensitivity))\n",
    "print(\"Especificidade: {:.4f}\".format(specificity))\n",
    "\n",
    "from mlxtend.plotting import plot_confusion_matrix\n",
    "fig, ax = plot_confusion_matrix(conf_mat=cm ,  figsize=(5, 5))\n",
    "plt.show()"
   ]
  },
  {
   "cell_type": "code",
   "execution_count": null,
   "metadata": {
    "id": "90xejMF12RI3",
    "outputId": "84cc1ba9-59cd-4af3-9f2d-307bcb054dac"
   },
   "outputs": [
    {
     "name": "stdout",
     "output_type": "stream",
     "text": [
      "              precision    recall  f1-score   support\n",
      "\n",
      "           0       0.98      0.97      0.97       192\n",
      "           1       0.97      0.98      0.97       192\n",
      "\n",
      "    accuracy                           0.97       384\n",
      "   macro avg       0.97      0.97      0.97       384\n",
      "weighted avg       0.97      0.97      0.97       384\n",
      "\n"
     ]
    }
   ],
   "source": [
    "from sklearn.metrics import classification_report\n",
    "\n",
    "print(classification_report(y_true,pred, labels=[0,1]))\n",
    "#label 0 = MASKON\n",
    "#label 1 = MASKOFF"
   ]
  },
  {
   "cell_type": "code",
   "execution_count": null,
   "metadata": {
    "id": "r3xjBtJi2RI5"
   },
   "outputs": [],
   "source": []
  }
 ],
 "metadata": {
  "colab": {
   "collapsed_sections": [],
   "name": "7.1.Create model_mask.ipynb",
   "provenance": []
  },
  "kernelspec": {
   "display_name": "Python 3",
   "language": "python",
   "name": "python3"
  },
  "language_info": {
   "codemirror_mode": {
    "name": "ipython",
    "version": 3
   },
   "file_extension": ".py",
   "mimetype": "text/x-python",
   "name": "python",
   "nbconvert_exporter": "python",
   "pygments_lexer": "ipython3",
   "version": "3.6.5"
  }
 },
 "nbformat": 4,
 "nbformat_minor": 1
}
